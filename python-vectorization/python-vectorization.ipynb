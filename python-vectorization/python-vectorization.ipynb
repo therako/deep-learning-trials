{
 "cells": [
  {
   "cell_type": "code",
   "execution_count": 1,
   "metadata": {},
   "outputs": [],
   "source": [
    "import numpy as np"
   ]
  },
  {
   "cell_type": "code",
   "execution_count": 8,
   "metadata": {},
   "outputs": [],
   "source": [
    "a = np.random.rand(10000000)\n",
    "b = np.random.rand(10000000)"
   ]
  },
  {
   "cell_type": "code",
   "execution_count": 9,
   "metadata": {},
   "outputs": [
    {
     "name": "stdout",
     "output_type": "stream",
     "text": [
      "TimeTaken:  11.946916580200195  ms\n"
     ]
    }
   ],
   "source": [
    "import time\n",
    "\n",
    "start = time.time()\n",
    "c = np.dot(a, b)\n",
    "end = time.time()\n",
    "\n",
    "print(\"TimeTaken: \", 1000*(end - start), \" ms\")"
   ]
  },
  {
   "cell_type": "code",
   "execution_count": 12,
   "metadata": {},
   "outputs": [
    {
     "name": "stdout",
     "output_type": "stream",
     "text": [
      "TimeTaken:  4390.702247619629  ms\n"
     ]
    }
   ],
   "source": [
    "import time\n",
    "\n",
    "start = time.time()\n",
    "c = 0\n",
    "for i in range(10000000):\n",
    "    c += a[i] * b[i]\n",
    "end = time.time()\n",
    "\n",
    "print(\"TimeTaken: \", 1000*(end - start), \" ms\")"
   ]
  },
  {
   "cell_type": "code",
   "execution_count": 15,
   "metadata": {},
   "outputs": [
    {
     "name": "stdout",
     "output_type": "stream",
     "text": [
      "[[1.42963692]\n",
      " [1.37135172]\n",
      " [1.98662957]\n",
      " ...\n",
      " [1.5232918 ]\n",
      " [1.16256724]\n",
      " [1.77807301]]\n",
      "For Loop:  5923.942804336548  ms\n",
      "[1.42963692 1.37135172 1.98662957 ... 1.5232918  1.16256724 1.77807301]\n",
      "Vectorized:  108.93011093139648  ms\n"
     ]
    }
   ],
   "source": [
    "# Exponetials\n",
    "import math\n",
    "import time\n",
    "import numpy as np\n",
    "\n",
    "a = np.random.rand(10000000)\n",
    "\n",
    "start = time.time()\n",
    "c = np.zeros((10000000, 1))\n",
    "for i in range(10000000):\n",
    "    c[i] = math.exp(a[i])\n",
    "end = time.time()\n",
    "print(c)\n",
    "print(\"For Loop: \", 1000*(end - start), \" ms\")\n",
    "\n",
    "f\n",
    "start = time.time()\n",
    "c = np.exp(a)\n",
    "end = time.time()\n",
    "print(c)\n",
    "print(\"Vectorized: \", 1000*(end - start), \" ms\")\n"
   ]
  },
  {
   "cell_type": "code",
   "execution_count": null,
   "metadata": {},
   "outputs": [],
   "source": []
  }
 ],
 "metadata": {
  "kernelspec": {
   "display_name": "Python 3",
   "language": "python",
   "name": "python3"
  },
  "language_info": {
   "codemirror_mode": {
    "name": "ipython",
    "version": 3
   },
   "file_extension": ".py",
   "mimetype": "text/x-python",
   "name": "python",
   "nbconvert_exporter": "python",
   "pygments_lexer": "ipython3",
   "version": "3.6.1"
  }
 },
 "nbformat": 4,
 "nbformat_minor": 2
}
